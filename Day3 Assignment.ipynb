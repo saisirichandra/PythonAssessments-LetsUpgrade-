{
 "cells": [
  {
   "cell_type": "markdown",
   "metadata": {},
   "source": [
    "# Find the sum of n integers(Using for loop) (initial value is 0)?"
   ]
  },
  {
   "cell_type": "code",
   "execution_count": 2,
   "metadata": {},
   "outputs": [
    {
     "name": "stdout",
     "output_type": "stream",
     "text": [
      "Enter the n value21\n",
      " sum is 231\n"
     ]
    }
   ],
   "source": [
    "n=int(input(\"Enter the n value\"))\n",
    "if n < 0:\n",
    "   print(\"Enter positive number\")\n",
    "else:\n",
    "   sum = 0\n",
    "   for i in range(1,n+1):\n",
    "        sum=sum+i\n",
    "   print(\" sum is\",sum)"
   ]
  },
  {
   "cell_type": "markdown",
   "metadata": {},
   "source": [
    "# Find the sum of n integers(Using for loop) (initial value is not 0)?"
   ]
  },
  {
   "cell_type": "code",
   "execution_count": 4,
   "metadata": {},
   "outputs": [
    {
     "name": "stdout",
     "output_type": "stream",
     "text": [
      "Enter the n value21\n",
      "Enter the starting no.10\n",
      " sum is 241\n"
     ]
    }
   ],
   "source": [
    "n=int(input(\"Enter the n value\"))\n",
    "num=int(input(\"Enter the starting no.\"))\n",
    "if n < 0:\n",
    "   print(\"Enter positive number\")\n",
    "else:\n",
    "   sum = num\n",
    "   for i in range(1,n+1):\n",
    "        sum=sum+i\n",
    "   print(\" sum is\", sum)"
   ]
  },
  {
   "cell_type": "markdown",
   "metadata": {},
   "source": [
    "# Find the sum of n integers(Using for loop) (initial value is 0)?"
   ]
  },
  {
   "cell_type": "code",
   "execution_count": 6,
   "metadata": {},
   "outputs": [
    {
     "name": "stdout",
     "output_type": "stream",
     "text": [
      "Enter the n value21\n",
      "The sum is 231\n"
     ]
    }
   ],
   "source": [
    "n=int(input(\"Enter the n value\"))\n",
    "if n < 0:\n",
    "   print(\"Enter positive number\")\n",
    "else:\n",
    "   res=(n*(n+1))/2\n",
    "print(\"The sum is\", int(res))"
   ]
  },
  {
   "cell_type": "markdown",
   "metadata": {},
   "source": [
    "# Take a integer & check whether it is prime or not?"
   ]
  },
  {
   "cell_type": "code",
   "execution_count": 20,
   "metadata": {},
   "outputs": [
    {
     "name": "stdout",
     "output_type": "stream",
     "text": [
      "enter a number1331\n",
      "1331  is not prime.\n"
     ]
    }
   ],
   "source": [
    "n = int(input(\"enter a number\"))\n",
    "c=0\n",
    "if n > 1:\n",
    "    for i in range(2,n):\n",
    "        if(n%i)==0:\n",
    "            c=1\n",
    "    if c==1:\n",
    "        print(n,\" is not prime.\")\n",
    "    else:        \n",
    "        print(n,\" is prime.\")"
   ]
  }
 ],
 "metadata": {
  "kernelspec": {
   "display_name": "Python 3",
   "language": "python",
   "name": "python3"
  },
  "language_info": {
   "codemirror_mode": {
    "name": "ipython",
    "version": 3
   },
   "file_extension": ".py",
   "mimetype": "text/x-python",
   "name": "python",
   "nbconvert_exporter": "python",
   "pygments_lexer": "ipython3",
   "version": "3.7.3"
  }
 },
 "nbformat": 4,
 "nbformat_minor": 2
}
