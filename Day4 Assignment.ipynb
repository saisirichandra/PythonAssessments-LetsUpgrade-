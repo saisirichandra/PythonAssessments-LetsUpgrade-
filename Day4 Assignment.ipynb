{
 "cells": [
  {
   "cell_type": "markdown",
   "metadata": {},
   "source": [
    "# Find all occurence of substring in the given string?\n"
   ]
  },
  {
   "cell_type": "code",
   "execution_count": 5,
   "metadata": {},
   "outputs": [
    {
     "name": "stdout",
     "output_type": "stream",
     "text": [
      "Enter the substringwe\n",
      "The sub strings occured are at:\n",
      "6\n",
      "15\n",
      "26\n"
     ]
    }
   ],
   "source": [
    "str = \"what we think we become; we are python programmers.\"\n",
    "sub = input(\"Enter the substring\")\n",
    "if str.count(sub)==0:\n",
    "    print(\"No substring \")\n",
    "else:\n",
    "    print(\"The sub strings occured are at:\")\n",
    "    for i in range(len(str)-1):\n",
    "        if (str[i]+str[i+1])==sub:\n",
    "            print(i+1)\n",
    "            i+=1\n"
   ]
  },
  {
   "cell_type": "markdown",
   "metadata": {},
   "source": [
    "# is.upper() & is.lower()"
   ]
  },
  {
   "cell_type": "code",
   "execution_count": 7,
   "metadata": {},
   "outputs": [
    {
     "name": "stdout",
     "output_type": "stream",
     "text": [
      "True\n"
     ]
    }
   ],
   "source": [
    "if str.islower():\n",
    "    print(True)"
   ]
  },
  {
   "cell_type": "code",
   "execution_count": 9,
   "metadata": {},
   "outputs": [
    {
     "name": "stdout",
     "output_type": "stream",
     "text": [
      "WHAT WE THINK WE BECOME; WE ARE PYTHON PROGRAMMERS.\n"
     ]
    }
   ],
   "source": [
    "if str.islower():\n",
    "    print(str.upper())"
   ]
  },
  {
   "cell_type": "code",
   "execution_count": 10,
   "metadata": {},
   "outputs": [
    {
     "data": {
      "text/plain": [
       "'what we think we become; we are python programmers.'"
      ]
     },
     "execution_count": 10,
     "metadata": {},
     "output_type": "execute_result"
    }
   ],
   "source": [
    "str.lower()"
   ]
  },
  {
   "cell_type": "code",
   "execution_count": 12,
   "metadata": {},
   "outputs": [
    {
     "name": "stdout",
     "output_type": "stream",
     "text": [
      "Hello LetsUpgrade\n"
     ]
    }
   ],
   "source": [
    "if str.upper().isupper():\n",
    "    print(\"Hello LetsUpgrade\")"
   ]
  },
  {
   "cell_type": "code",
   "execution_count": 13,
   "metadata": {},
   "outputs": [
    {
     "name": "stdout",
     "output_type": "stream",
     "text": [
      "HELLO LETSUPGRADE\n"
     ]
    }
   ],
   "source": [
    "if str.upper().isupper():\n",
    "    print(\"Hello LetsUpgrade\".upper())"
   ]
  }
 ],
 "metadata": {
  "kernelspec": {
   "display_name": "Python 3",
   "language": "python",
   "name": "python3"
  },
  "language_info": {
   "codemirror_mode": {
    "name": "ipython",
    "version": 3
   },
   "file_extension": ".py",
   "mimetype": "text/x-python",
   "name": "python",
   "nbconvert_exporter": "python",
   "pygments_lexer": "ipython3",
   "version": "3.7.3"
  }
 },
 "nbformat": 4,
 "nbformat_minor": 2
}
